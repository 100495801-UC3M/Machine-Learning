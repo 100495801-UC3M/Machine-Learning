{
 "cells": [
  {
   "cell_type": "markdown",
   "id": "2dd5a3ac",
   "metadata": {},
   "source": [
    "# CLUSTERING DE SEMILLAS"
   ]
  },
  {
   "cell_type": "markdown",
   "id": "797d72d1",
   "metadata": {},
   "source": [
    "## Introducción"
   ]
  },
  {
   "cell_type": "markdown",
   "id": "dea73663",
   "metadata": {},
   "source": [
    "En esta practica nos enfocamos en clustering. Clustering es una técnica de aprendizaje no supervidado para organizar en distintos grupos los datos de una semilla, de manera que los datos en un grupo tengan características similares.\n",
    "Primero usaremos una herramienta llamada PCA para determinar cuál es el mejor scaler para usar con esta semilla y luego aplicaremos distintos modos de agrupamiento con el objetivo de encontrar los hiper-parametros más relevantes y discutir los resultados obtenidos.\n",
    "\n",
    "#### Integrantes: Javier Díez y Mario Hidalgo"
   ]
  },
  {
   "cell_type": "markdown",
   "id": "486c0cc3",
   "metadata": {},
   "source": []
  }
 ],
 "metadata": {
  "language_info": {
   "name": "python"
  }
 },
 "nbformat": 4,
 "nbformat_minor": 5
}
